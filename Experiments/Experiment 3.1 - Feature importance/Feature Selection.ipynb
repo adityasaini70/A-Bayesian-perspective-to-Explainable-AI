{
 "cells": [
  {
   "cell_type": "code",
   "execution_count": 9,
   "metadata": {},
   "outputs": [],
   "source": [
    "import GPy\n",
    "import numpy as np\n",
    "import pandas as pd\n",
    "import matplotlib.pyplot as plt\n",
    "from sklearn.datasets import load_boston\n",
    "from sklearn.preprocessing import StandardScaler\n",
    "\n",
    "plt.style.use(['science', 'ieee', 'grid', 'no-latex'])\n",
    "plt.rcParams['savefig.facecolor'] = (1.0, 1.0, 1.0, 1.0)\n",
    "plt.rcParams['figure.facecolor'] = (1.0, 1.0, 1.0, 1.0)\n",
    "plt.rcParams['figure.figsize'] = 25, 5\n",
    "plt.rcParams['ytick.labelsize'] = 'large'\n",
    "plt.rcParams['xtick.labelsize'] = 'large'\n",
    "\n",
    "X, y = load_boston(return_X_y=True)"
   ]
  },
  {
   "cell_type": "code",
   "execution_count": null,
   "metadata": {
    "scrolled": true
   },
   "outputs": [],
   "source": [
    "#Training Linear Regression model\n",
    "def acc(model, arr, y_true):\n",
    "    return np.mean((model.predict(arr)-y_true)**2)\n",
    "\n",
    "from sklearn import linear_model\n",
    "reg = linear_model.LinearRegression()\n",
    "reg.fit(X, y)\n",
    "\n",
    "kernel = GPy.kern.RBF(input_dim=X.shape[1],ARD=True) + GPy.kern.Bias(input_dim=X.shape[1])\n",
    "reg_gp = GPy.models.GPRegression(X,y.reshape(-1,1),kernel)\n",
    "reg_gp.optimize()\n",
    "\n",
    "plt.subplot(1,3,1)\n",
    "plt.stem(np.abs(reg.coef_)/np.max(reg.coef_), linefmt='b-.', markerfmt='bo')\n",
    "plt.ylabel(\"Importance score\")\n",
    "plt.xlabel(\"Feature index\")\n",
    "plt.title(r\"$\\bf{(a)Linear\\ Regression}$\", y= -0.15)\n",
    "\n",
    "plt.subplot(1,3,2)\n",
    "rel_gp = 1/reg_gp.sum.rbf.lengthscale\n",
    "plt.stem(rel_gp/np.max(rel_gp), label=\"reg_gp\",linefmt='b-.', markerfmt='bo')\n",
    "plt.ylabel(\"Importance score\")\n",
    "plt.xlabel(\"Feature index\")\n",
    "plt.title(r\"$\\bf{(b)GP\\ model\\ with\\ ARD\\ kernel}$\", y= -0.15)\n",
    "\n",
    "plt.savefig(f\"Feature_importance.png\",dpi=600)\n"
   ]
  },
  {
   "cell_type": "code",
   "execution_count": null,
   "metadata": {},
   "outputs": [],
   "source": []
  }
 ],
 "metadata": {
  "kernelspec": {
   "display_name": "Python 3",
   "language": "python",
   "name": "python3"
  },
  "language_info": {
   "codemirror_mode": {
    "name": "ipython",
    "version": 3
   },
   "file_extension": ".py",
   "mimetype": "text/x-python",
   "name": "python",
   "nbconvert_exporter": "python",
   "pygments_lexer": "ipython3",
   "version": "3.8.5"
  }
 },
 "nbformat": 4,
 "nbformat_minor": 4
}
